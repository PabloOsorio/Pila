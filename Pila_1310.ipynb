{
  "nbformat": 4,
  "nbformat_minor": 0,
  "metadata": {
    "colab": {
      "name": "Pila_1310.ipynb",
      "provenance": [],
      "collapsed_sections": [],
      "authorship_tag": "ABX9TyNzYRw6o7njtOdkvaG/8YVg",
      "include_colab_link": true
    },
    "kernelspec": {
      "name": "python3",
      "display_name": "Python 3"
    },
    "language_info": {
      "name": "python"
    }
  },
  "cells": [
    {
      "cell_type": "markdown",
      "metadata": {
        "id": "view-in-github",
        "colab_type": "text"
      },
      "source": [
        "<a href=\"https://colab.research.google.com/github/PabloOsorio/Pila/blob/main/Pila_1310.ipynb\" target=\"_parent\"><img src=\"https://colab.research.google.com/assets/colab-badge.svg\" alt=\"Open In Colab\"/></a>"
      ]
    },
    {
      "cell_type": "markdown",
      "metadata": {
        "id": "B-1D1svoNJpC"
      },
      "source": [
        ""
      ]
    },
    {
      "cell_type": "code",
      "metadata": {
        "id": "r7eO-Ie9NNRx"
      },
      "source": [
        "class StackADT:\n",
        "    def __init__(self):\n",
        "        self.__data = list()\n",
        "\n",
        "    #Regresa true si la lista esta vacia\n",
        "    def is_empty(self):\n",
        "        return len(self.__data) == 0\n",
        "\n",
        "    def get_leght(self):\n",
        "        return len(self.__data)\n",
        "\n",
        "    def pop (self):\n",
        "        if self.is_empty():\n",
        "            print(\"Nada que sacar\")\n",
        "        else:\n",
        "            return self.__data.pop()\n",
        "\n",
        "    def peek (self):\n",
        "         if self.is_empty():\n",
        "            print(\"Nada que sacar\")\n",
        "         else:\n",
        "            return self.__data[-1]\n",
        "\n",
        "    def push(self, value ):\n",
        "        self.__data.append(value)\n",
        "    \n",
        "    def to_String(self):\n",
        "        for item in self.__data[::-1]:\n",
        "            print(f\"| {item} | \")"
      ],
      "execution_count": 5,
      "outputs": []
    },
    {
      "cell_type": "code",
      "metadata": {
        "colab": {
          "base_uri": "https://localhost:8080/"
        },
        "id": "nSW8rc5YQeUK",
        "outputId": "f5e3236f-bd4a-4aa0-eec5-9670f75fdbdf"
      },
      "source": [
        "pila = StackADT()\n",
        "print(f\"Esta vacia: \" , pila.is_empty())\n",
        "print(f\"Elementos: \" , pila.get_leght())\n",
        "pila.push(45)\n",
        "print(f\"Esta vacia: \" , pila.is_empty())\n",
        "print(f\"Elementos: \" , pila.get_leght())\n",
        "pila.push(90)\n",
        "pila.push(100)\n",
        "pila.push(1)\n",
        "pila.to_String()\n",
        "pila.pop()\n",
        "print(pila.peek())\n",
        "print(\".-.-.-.-.-.-.-.\")\n",
        "pila.to_String()"
      ],
      "execution_count": 6,
      "outputs": [
        {
          "output_type": "stream",
          "name": "stdout",
          "text": [
            "Esta vacia:  True\n",
            "Elementos:  0\n",
            "Esta vacia:  False\n",
            "Elementos:  1\n",
            "| 1 | \n",
            "| 100 | \n",
            "| 90 | \n",
            "| 45 | \n",
            "100\n",
            ".-.-.-.-.-.-.-.\n",
            "| 100 | \n",
            "| 90 | \n",
            "| 45 | \n"
          ]
        }
      ]
    },
    {
      "cell_type": "code",
      "metadata": {
        "colab": {
          "base_uri": "https://localhost:8080/"
        },
        "id": "WV9JHjVrHZRd",
        "outputId": "ee375a0f-1aa9-457d-e829-9323ab5c49eb"
      },
      "source": [
        "!cat prog.txt"
      ],
      "execution_count": 3,
      "outputs": [
        {
          "output_type": "stream",
          "name": "stdout",
          "text": [
            "#include <stdio.h>\r\n",
            "int main()\r\n",
            "{\r\n",
            "    int num, count, sum = 0;\r\n",
            "\r\n",
            "    printf(\"Enter a positive integer: \");\r\n",
            "    scanf(\"%d\", &num);\r\n",
            "\r\n",
            "    // for loop terminates when num is less than count\r\n",
            "    for(count = 1; count <= num; ++count)\r\n",
            "    {\r\n",
            "        sum += count;\r\n",
            "    }\r\n",
            "\r\n",
            "    printf(\"Sum = %d\", sum);\r\n",
            "\r\n",
            "    return 0;\r\n",
            "}"
          ]
        }
      ]
    },
    {
      "cell_type": "code",
      "metadata": {
        "colab": {
          "base_uri": "https://localhost:8080/"
        },
        "id": "9LvDmDSXIGHA",
        "outputId": "1ec363d9-3461-429c-dad2-a0aae712a8e3"
      },
      "source": [
        "entrada = open ('prog.txt', 'rt')\n",
        "codigo = entrada.read()\n",
        "\n",
        "pilaControl = StackADT()\n",
        "pilaControl.push('#') #caracter de pila vacia\n",
        "\n",
        "for letra in codigo:\n",
        "  #print(f\"-->{letra} <--\"\")\n",
        "  if letra == '{':\n",
        "    pilaControl.push(\"{\")\n",
        "  elif letra == '}':\n",
        "    basura = pilaControl.pop()\n",
        "  else: \n",
        "    pass\n",
        "\n",
        "\n",
        "#NOTA: Este codigo aun no contempla desbalanceo\n",
        "\n",
        "if pilaControl.peek() == '#':\n",
        "  print(\"El codigo proporcianado esta correctamente balanceado\")\n",
        "else: \n",
        "  print(\"El codigo no esta balanceado en llaves {} de manera correcta\")"
      ],
      "execution_count": 7,
      "outputs": [
        {
          "output_type": "stream",
          "name": "stdout",
          "text": [
            "El codigo proporcianado esta correctamente balanceado\n"
          ]
        }
      ]
    }
  ]
}