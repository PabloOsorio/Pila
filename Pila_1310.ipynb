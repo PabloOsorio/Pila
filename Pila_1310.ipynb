{
  "nbformat": 4,
  "nbformat_minor": 0,
  "metadata": {
    "colab": {
      "name": "Pila_1310.ipynb",
      "provenance": [],
      "authorship_tag": "ABX9TyPc8AUuCOf/FeYPordEs+/+",
      "include_colab_link": true
    },
    "kernelspec": {
      "name": "python3",
      "display_name": "Python 3"
    },
    "language_info": {
      "name": "python"
    }
  },
  "cells": [
    {
      "cell_type": "markdown",
      "metadata": {
        "id": "view-in-github",
        "colab_type": "text"
      },
      "source": [
        "<a href=\"https://colab.research.google.com/github/PabloOsorio/Pila/blob/main/Pila_1310.ipynb\" target=\"_parent\"><img src=\"https://colab.research.google.com/assets/colab-badge.svg\" alt=\"Open In Colab\"/></a>"
      ]
    },
    {
      "cell_type": "markdown",
      "metadata": {
        "id": "B-1D1svoNJpC"
      },
      "source": [
        ""
      ]
    },
    {
      "cell_type": "code",
      "metadata": {
        "id": "r7eO-Ie9NNRx"
      },
      "source": [
        "class StackADT:\n",
        "    def __init__(self):\n",
        "        self.__data = list()\n",
        "\n",
        "    #Regresa true si la lista esta vacia\n",
        "    def is_empty(self):\n",
        "        return len(self.__data) == 0\n",
        "\n",
        "    def get_leght(self):\n",
        "        return len(self.__data)\n",
        "\n",
        "    def pop (self):\n",
        "        if self.is_empty():\n",
        "            print(\"Nada que sacar\")\n",
        "        else:\n",
        "            return self.__data.pop()\n",
        "\n",
        "    def peek (self):\n",
        "         if self.is_empty():\n",
        "            print(\"Nada que sacar\")\n",
        "         else:\n",
        "            return self.__data[-1]\n",
        "\n",
        "    def push(self, value ):\n",
        "        self.__data.append(value)\n",
        "    \n",
        "    def to_String(self):\n",
        "        for item in self.__data[::-1]:\n",
        "            print(f\"| {item} | \")"
      ],
      "execution_count": null,
      "outputs": []
    },
    {
      "cell_type": "code",
      "metadata": {
        "colab": {
          "base_uri": "https://localhost:8080/"
        },
        "id": "nSW8rc5YQeUK",
        "outputId": "2841dbbe-d15a-4d6a-dfa9-496bc3a4e8b4"
      },
      "source": [
        "pila = StackADT()\n",
        "print(f\"Esta vacia: \" , pila.is_empty())\n",
        "print(f\"Elementos: \" , pila.get_leght())\n",
        "pila.push(45)\n",
        "print(f\"Esta vacia: \" , pila.is_empty())\n",
        "print(f\"Elementos: \" , pila.get_leght())\n",
        "pila.push(90)\n",
        "pila.push(100)\n",
        "pila.push(1)\n",
        "pila.to_String()\n",
        "pila.pop()\n",
        "print(pila.peek())\n",
        "print(\".-.-.-.-.-.-.-.\")\n",
        "pila.to_String()"
      ],
      "execution_count": null,
      "outputs": [
        {
          "output_type": "stream",
          "name": "stdout",
          "text": [
            "Esta vacia:  True\n",
            "Elementos:  0\n",
            "Esta vacia:  False\n",
            "Elementos:  1\n",
            "| 1 | \n",
            "| 100 | \n",
            "| 90 | \n",
            "| 45 | \n",
            "100\n",
            ".-.-.-.-.-.-.-.\n",
            "| 100 | \n",
            "| 90 | \n",
            "| 45 | \n"
          ]
        }
      ]
    }
  ]
}